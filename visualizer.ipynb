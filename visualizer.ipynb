{
 "cells": [
  {
   "cell_type": "code",
   "execution_count": 15,
   "metadata": {},
   "outputs": [],
   "source": [
    "import os, json\n",
    "\n",
    "import numpy as np\n",
    "import seaborn as sns\n",
    "import matplotlib.pyplot as plt\n",
    "from matplotlib.colors import ListedColormap"
   ]
  },
  {
   "cell_type": "code",
   "execution_count": 3,
   "metadata": {},
   "outputs": [],
   "source": [
    "CMAP = ListedColormap([\n",
    "    '#000000', # black\n",
    "    '#0074D9', # blue\n",
    "    '#FF4136', # red\n",
    "    '#2ECC40', # green\n",
    "    '#FFDC00', # yellow\n",
    "    '#AAAAAA', # grey\n",
    "    '#F012BE', # fuschia\n",
    "    '#FF851B', # orange\n",
    "    '#7FDBFF', # teal\n",
    "    '#870C25' # brown\n",
    "])\n",
    "\n",
    "def vis(data, ax):\n",
    "    sns.heatmap(data, ax = ax, cmap = CMAP, cbar = False, xticklabels = False, yticklabels = False, square = True)"
   ]
  },
  {
   "cell_type": "code",
   "execution_count": 4,
   "metadata": {},
   "outputs": [],
   "source": [
    "TRAIN_PATH = 'data/training'\n",
    "raw_train_data = []\n",
    "for file in os.listdir(TRAIN_PATH):\n",
    "    with open(os.path.join(TRAIN_PATH, file), 'r') as f:\n",
    "        raw_train_data.append(json.load(f))"
   ]
  },
  {
   "cell_type": "code",
   "execution_count": 5,
   "metadata": {},
   "outputs": [],
   "source": [
    "train_data = [[(p['input'], p['output']) for p in puzzle['train']] for puzzle in raw_train_data]\n",
    "test_data = [(p['test'][0]['input'], p['test'][0]['output']) for p in raw_train_data]\n",
    "\n",
    "num_puzzles = len(train_data)"
   ]
  },
  {
   "cell_type": "code",
   "execution_count": 18,
   "metadata": {},
   "outputs": [],
   "source": [
    "for i in range(num_puzzles):\n",
    "    fig, axs = plt.subplots(nrows = len(train_data[i]) + 1, ncols = 2)\n",
    "    for idx, (inp, out) in enumerate(train_data[i]):\n",
    "        vis(inp, axs[idx][0])\n",
    "        vis(out, axs[idx][1])\n",
    "    vis(test_data[i][0], axs[-1][0])\n",
    "    vis(test_data[i][1], axs[-1][1])\n",
    "    fig.savefig(f'plots/puzzle {i}.png')\n",
    "    plt.close()"
   ]
  }
 ],
 "metadata": {
  "kernelspec": {
   "display_name": "fighbird",
   "language": "python",
   "name": "python3"
  },
  "language_info": {
   "codemirror_mode": {
    "name": "ipython",
    "version": 3
   },
   "file_extension": ".py",
   "mimetype": "text/x-python",
   "name": "python",
   "nbconvert_exporter": "python",
   "pygments_lexer": "ipython3",
   "version": "3.12.7"
  }
 },
 "nbformat": 4,
 "nbformat_minor": 2
}
